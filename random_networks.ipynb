{
  "nbformat": 4,
  "nbformat_minor": 0,
  "metadata": {
    "colab": {
      "provenance": [],
      "authorship_tag": "ABX9TyNzbv+Os/M+tAXc9cnwzviq",
      "include_colab_link": true
    },
    "kernelspec": {
      "name": "python3",
      "display_name": "Python 3"
    },
    "language_info": {
      "name": "python"
    }
  },
  "cells": [
    {
      "cell_type": "markdown",
      "metadata": {
        "id": "view-in-github",
        "colab_type": "text"
      },
      "source": [
        "<a href=\"https://colab.research.google.com/github/poolGolez/project-redos/blob/main/random_networks.ipynb\" target=\"_parent\"><img src=\"https://colab.research.google.com/assets/colab-badge.svg\" alt=\"Open In Colab\"/></a>"
      ]
    },
    {
      "cell_type": "markdown",
      "source": [
        "# Random Networks"
      ],
      "metadata": {
        "id": "PE4pO9BFuTy8"
      }
    },
    {
      "cell_type": "code",
      "execution_count": 1,
      "metadata": {
        "id": "olbxof1H_jLN"
      },
      "outputs": [],
      "source": [
        "import networkx as nx\n",
        "\n",
        "import numpy as np\n",
        "import matplotlib.pyplot as plt\n",
        "import math"
      ]
    },
    {
      "cell_type": "markdown",
      "source": [
        "## Overview\n",
        "\n",
        "A random network model $G(N,p)$ is specified by the following parameters:\n",
        "* $N$, the number of nodes, and\n",
        "* $p$, the probability that the two nodes are connected.\n",
        "\n",
        "Futhermore, we use $L$ to denote the *maximum* number of links a graph with $N$ nodes can have and is computed as:\n",
        "\n",
        "$L = \\binom{N}{2} = \\frac{N(N-1)}{2}$"
      ],
      "metadata": {
        "id": "wxiFciRorFjI"
      }
    },
    {
      "cell_type": "code",
      "source": [
        "N = 10\n",
        "p = 0.5\n",
        "\n",
        "G = nx.binomial_graph(N, 0.5, seed=42)"
      ],
      "metadata": {
        "id": "cEuiL335_zpN"
      },
      "execution_count": 2,
      "outputs": []
    },
    {
      "cell_type": "code",
      "source": [
        "print(f\"A sample random network, G, with N=100 and p=0.5.\")\n",
        "print(f\"Number of nodes: {len(G.nodes)}\")\n",
        "print(f\"Number of links: {len(G.edges)}\")"
      ],
      "metadata": {
        "colab": {
          "base_uri": "https://localhost:8080/"
        },
        "id": "NXvdNacc_063",
        "outputId": "16a4f4ab-6b9f-41d0-c68e-cb6976a9c2d4"
      },
      "execution_count": 3,
      "outputs": [
        {
          "output_type": "stream",
          "name": "stdout",
          "text": [
            "A sample random network, G, with N=100 and p=0.5.\n",
            "Number of nodes: 10\n",
            "Number of links: 21\n"
          ]
        }
      ]
    },
    {
      "cell_type": "markdown",
      "source": [
        "A random graph `G(N,p)` will have, at most, `L` = `C(N,2)` links (edges)."
      ],
      "metadata": {
        "id": "ftM5uHqWsgw7"
      }
    },
    {
      "cell_type": "code",
      "source": [
        "L = math.comb(N,2)\n",
        "\n",
        "print(f\"Maximum number of edges: {L}\")"
      ],
      "metadata": {
        "colab": {
          "base_uri": "https://localhost:8080/"
        },
        "id": "rGsKN4h5Cldq",
        "outputId": "21520a61-2b5c-4a25-b7bf-94c615d34310"
      },
      "execution_count": 4,
      "outputs": [
        {
          "output_type": "stream",
          "name": "stdout",
          "text": [
            "Maximum number of edges: 45\n"
          ]
        }
      ]
    },
    {
      "cell_type": "markdown",
      "source": [
        "## Link Distribution\n",
        "\n",
        "The `G(N, p)` model is a family of graphs with different number of links as tweaked by the `p` parameter. Given that `p` indicates the probability that two nodes form a link, the link distribution follows a binomial distribution"
      ],
      "metadata": {
        "id": "QWq4rL58Dawy"
      }
    },
    {
      "cell_type": "code",
      "source": [
        "from scipy.stats import itemfreq\n",
        "\n",
        "graph_count = 1000\n",
        "\n",
        "def generate_graphs(N, p, count=1000):\n",
        "  rng = np.random.default_rng(42)\n",
        "  return [nx.binomial_graph(N, p, seed=seed.item()) \\\n",
        "          for seed in rng.integers(low=0, high=1024, size=graph_count)]\n",
        "\n",
        "Graphs = generate_graphs(N, p, graph_count)"
      ],
      "metadata": {
        "id": "bRYZcNanErIJ"
      },
      "execution_count": 5,
      "outputs": []
    },
    {
      "cell_type": "code",
      "source": [
        "from scipy.stats import binom\n",
        "\n",
        "def plot_edge_distributions(Graphs):\n",
        "  edges = [len(G.edges) for G in Graphs]\n",
        "  e, count = np.unique(edges, return_counts=True)\n",
        "  count = count/float(graph_count)\n",
        "  plt.bar(e, count, alpha=0.6)\n",
        "\n",
        "def plot_binomial_distribution(L, p):\n",
        "  dist = np.array([binom.pmf(k, L, p) for k in range(L+1)])\n",
        "  plt.plot(dist, color='green')\n",
        "\n",
        "\n",
        "plot_edge_distributions(Graphs)\n",
        "plot_binomial_distribution(L, p)\n",
        "plt.show()"
      ],
      "metadata": {
        "colab": {
          "base_uri": "https://localhost:8080/",
          "height": 0
        },
        "id": "2rmOGclVFrTy",
        "outputId": "8bc0cd08-c0a9-4e97-f819-3c0983150be5"
      },
      "execution_count": 6,
      "outputs": [
        {
          "output_type": "display_data",
          "data": {
            "text/plain": [
              "<Figure size 432x288 with 1 Axes>"
            ],
            "image/png": "[encoded data removed]"
          },
          "metadata": {
            "needs_background": "light"
          }
        }
      ]
    },
    {
      "cell_type": "markdown",
      "source": [
        "### 🔖The link distribution of a random model $G(N,p)$ follows a binomial distribution $P(x:L,p)$.\n",
        "\n",
        "> Using the binomial distribution, one can compute the probability of a $G(N,p)$ graph instance having $e$* links, $p_e$, using the formula below:\n",
        "\n",
        "$p_{e} = \\binom{L}{e} \\cdot p^{e} \\cdot (1-p)^{L-e}$\n",
        "\n",
        "> The average number of links of a random model $G(N, p)$ can be determined via the binomial distribution:\n",
        "\n",
        "$<L> = L \\cdot p$\n",
        "\n",
        "\n",
        "\n",
        "---\n",
        "\n",
        "\n",
        "$^*$ $l$ looks like the number $1$ so using $e$ instead (another name for link is **e**dge )"
      ],
      "metadata": {
        "id": "487WgEMUyNRP"
      }
    },
    {
      "cell_type": "markdown",
      "source": [
        "## Node Degree\n",
        "\n",
        "The degree of a node n, $n_k$, is the number of links of that node."
      ],
      "metadata": {
        "id": "g-J-Hnye75VA"
      }
    },
    {
      "cell_type": "markdown",
      "source": [
        "### 🔖The sum of the degree of the nodes in a graph is twice the nummber of the graph's links.\n",
        "\n",
        "$∑k = 2 \\cdot L$"
      ],
      "metadata": {
        "id": "dfWKm_GdJaHp"
      }
    },
    {
      "cell_type": "code",
      "source": [
        "N = 1024\n",
        "p = 0.002951274\n",
        "G = nx.binomial_graph(N, p, seed=42)\n",
        "\n",
        "print(\"Example graph of random network model G(100, 0.5)\")\n",
        "print(f\"Number of links: {G.number_of_edges()}\")\n",
        "print(f\"Sum of node degrees: {sum(nx.degree_histogram(G))}\")\n",
        "\n",
        "nx.info(G)"
      ],
      "metadata": {
        "colab": {
          "base_uri": "https://localhost:8080/",
          "height": 87
        },
        "id": "p3cg1EK28Inb",
        "outputId": "d80e5e9f-1705-4f96-f565-08120dbbed5a"
      },
      "execution_count": 92,
      "outputs": [
        {
          "output_type": "stream",
          "name": "stdout",
          "text": [
            "Example graph of random network model G(100, 0.5)\n",
            "Number of links: 1512\n",
            "Sum of node degrees: 1024\n"
          ]
        },
        {
          "output_type": "execute_result",
          "data": {
            "text/plain": [
              "'Graph with 1024 nodes and 1512 edges'"
            ],
            "application/vnd.google.colaboratory.intrinsic+json": {
              "type": "string"
            }
          },
          "metadata": {},
          "execution_count": 92
        }
      ]
    },
    {
      "cell_type": "markdown",
      "source": [
        "### Distribution"
      ],
      "metadata": {
        "id": "afCc4G5xJWaD"
      }
    },
    {
      "cell_type": "markdown",
      "source": [
        "### 🔖The node degree distribution of an instance of a random network model follows th binomial distribution $P(x:N-1,p)$.\n",
        "\n",
        "> Looking at $n_k$ as the probability that a node $n$ forms a link to the other nodes, the maximum number of links a node can have is $N-1$; it is connected to all other nodes."
      ],
      "metadata": {
        "id": "RNCacvJRKbrj"
      }
    },
    {
      "cell_type": "markdown",
      "source": [
        "> Consequently, the probability $p_k$ that a node $n$ in a random network graph has a degree of $k$, can be calculated as follows:\n",
        "\n",
        "$p_k = \\binom {N-1} {k} \\cdot p^k \\cdot (1-p)^{(N-1)-k}$"
      ],
      "metadata": {
        "id": "YZlQHi9mPoXw"
      }
    },
    {
      "cell_type": "markdown",
      "source": [
        "> And the average degree of a graph (still following the binomial distribution) can be computed as:\n",
        "\n",
        "$<k> = (N-1) \\cdot p$"
      ],
      "metadata": {
        "id": "037A3OXtPrP0"
      }
    },
    {
      "cell_type": "code",
      "source": [
        "def plot_degree_distribution(G):\n",
        "  k_count = np.array(nx.degree_histogram(G))\n",
        "  normalized_k_count = k_count/k_count.sum()\n",
        "  plt.bar(np.arange(len(normalized_k_count)), normalized_k_count)\n",
        "\n",
        "plot_degree_distribution(G)\n",
        "plot_binomial_distribution(N-1, p)\n",
        "\n",
        "k_mean = (N-1) * p\n",
        "plt.axvline(x=k_mean, color='red', label='<k>')\n",
        "plt.show()"
      ],
      "metadata": {
        "colab": {
          "base_uri": "https://localhost:8080/",
          "height": 320
        },
        "id": "XPGLXgC_FfBo",
        "outputId": "e972b716-ae4a-4c3c-ce59-e9fe6ed86cc6"
      },
      "execution_count": 93,
      "outputs": [
        {
          "output_type": "stream",
          "name": "stderr",
          "text": [
            "/usr/local/lib/python3.8/dist-packages/scipy/stats/_discrete_distns.py:67: RuntimeWarning: divide by zero encountered in _binom_pdf\n",
            "  return _boost._binom_pdf(x, n, p)\n"
          ]
        },
        {
          "output_type": "display_data",
          "data": {
            "text/plain": [
              "<Figure size 432x288 with 1 Axes>"
            ],
            "image/png": "[encoded data removed]"
          },
          "metadata": {
            "needs_background": "light"
          }
        }
      ]
    },
    {
      "cell_type": "markdown",
      "source": [
        "## Evolution"
      ],
      "metadata": {
        "id": "o9ddMyJQPETe"
      }
    },
    {
      "cell_type": "markdown",
      "source": [
        "### Greatest Component"
      ],
      "metadata": {
        "id": "58OH5pFnwTec"
      }
    },
    {
      "cell_type": "code",
      "source": [
        "# nx.draw(G)"
      ],
      "metadata": {
        "id": "hIgwvlo7GpbF"
      },
      "execution_count": 94,
      "outputs": []
    },
    {
      "cell_type": "code",
      "source": [
        "len(list(nx.connected_components(G)))"
      ],
      "metadata": {
        "colab": {
          "base_uri": "https://localhost:8080/"
        },
        "id": "dFx9_i2SnGXQ",
        "outputId": "57275cef-e875-4c6c-b744-00e9112b86d3"
      },
      "execution_count": 95,
      "outputs": [
        {
          "output_type": "execute_result",
          "data": {
            "text/plain": [
              "68"
            ]
          },
          "metadata": {},
          "execution_count": 95
        }
      ]
    },
    {
      "cell_type": "code",
      "source": [
        "len(max(nx.connected_components(G)))"
      ],
      "metadata": {
        "colab": {
          "base_uri": "https://localhost:8080/"
        },
        "id": "UaK7lNnOnMac",
        "outputId": "99dd7c62-f9ae-4b69-b6c0-2cf3d2255a31"
      },
      "execution_count": 96,
      "outputs": [
        {
          "output_type": "execute_result",
          "data": {
            "text/plain": [
              "955"
            ]
          },
          "metadata": {},
          "execution_count": 96
        }
      ]
    },
    {
      "cell_type": "markdown",
      "source": [
        "### Phases\n",
        "\n",
        "**Subcritical Regime**: $0 < \\left< k \\right> < 1$; $\\left(p < \\frac{1}{N}\\right)$\n",
        "\n",
        "**Critical Point**: $\\left< k \\right> = 1$; $\\left(p = \\frac{1}{N}\\right)$\n",
        "\n",
        "**Supercritical Regime** $1 <\\left< k \\right> < \\log(N)$; $\\left(p > \\frac{1}{N}\\right)$\n",
        "\n",
        "**Connected Regime** $\\left< k\\right> > \\log(N)$\n"
      ],
      "metadata": {
        "id": "JAv9NxFTwW4D"
      }
    }
  ]
}